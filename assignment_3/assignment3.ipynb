{
 "cells": [
  {
   "cell_type": "code",
   "execution_count": 3,
   "metadata": {},
   "outputs": [],
   "source": [
    "import numpy as np\n",
    "from functools import cached_property"
   ]
  },
  {
   "cell_type": "code",
   "execution_count": null,
   "metadata": {},
   "outputs": [],
   "source": [
    "class DenseLayer:\n",
    "    def __init__(self,\n",
    "                 n_neu: int,\n",
    "                 activation_function: str):\n",
    "        self.n_neu = n_neu\n",
    "        self.activ_func = self.get_activ_func(activation_function)\n",
    "\n",
    "    def get_activ_func(self, activation_function: str):\n",
    "        activ_func_dict = {'sigmoid': lambda x: 1 / (1 + np.exp(-x)),\n",
    "                           'softplus': lambda x: np.log(np.exp(x) + 1)}\n",
    "        return activ_func_dict.get(activation_function)\n"
   ]
  },
  {
   "cell_type": "code",
   "execution_count": null,
   "metadata": {},
   "outputs": [],
   "source": [
    "class NeuralNetwork:\n",
    "    def __init__(self,\n",
    "                 n_in: int,\n",
    "                 n_out: int,\n",
    "                 learning_rate):\n",
    "        self.n_in = n_in #number of input features\n",
    "        self.n_out = n_out #number of output targets\n",
    "    \n",
    "    def add_layer(self, n_neu: int):\n",
    "        pass\n",
    "\n",
    "    def train(self, train_features: np.array, train_targets: np.array):\n",
    "        pass\n",
    "\n",
    "    def predict(self, test_features: np.array, test_targets: np.array):\n",
    "        pass\n"
   ]
  }
 ],
 "metadata": {
  "kernelspec": {
   "display_name": "python11",
   "language": "python",
   "name": "python3"
  },
  "language_info": {
   "codemirror_mode": {
    "name": "ipython",
    "version": 3
   },
   "file_extension": ".py",
   "mimetype": "text/x-python",
   "name": "python",
   "nbconvert_exporter": "python",
   "pygments_lexer": "ipython3",
   "version": "3.11.8"
  }
 },
 "nbformat": 4,
 "nbformat_minor": 2
}
